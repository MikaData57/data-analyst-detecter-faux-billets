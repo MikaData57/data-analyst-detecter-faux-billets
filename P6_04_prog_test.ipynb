{
 "cells": [
  {
   "cell_type": "markdown",
   "metadata": {},
   "source": [
    "<div style=\"text-align:center\"><img src=\"assets/intro.jpg\"/></div>"
   ]
  },
  {
   "cell_type": "markdown",
   "metadata": {},
   "source": [
    "# <span style=\"color:#264896\">Programme de détection de faux billets</span>\n",
    "\n",
    "Pour lancer le script dans son intégralité et obtenir le résultat en fin de Notebook, veuillez cliquer sur le bouton suivant situé dans la **barre d'outils** ci-dessus :\n",
    "\n",
    "![tuto](assets/tuto.jpg)\n",
    "\n",
    "### <span style=\"color:#17aafa\">Sommaire</span>\n",
    "1. Création du modèle de prédiction\n",
    "2. Import et contrôle du fichier à tester\n",
    "3. Application de l'algorithme de prédiction\n",
    "4. Résultats du traitement"
   ]
  },
  {
   "cell_type": "code",
   "execution_count": 1,
   "metadata": {},
   "outputs": [],
   "source": [
    "import sys\n",
    "import pandas as pd\n",
    "import numpy as np\n",
    "from sklearn.linear_model import LogisticRegression\n",
    "from sklearn import model_selection"
   ]
  },
  {
   "cell_type": "markdown",
   "metadata": {},
   "source": [
    "### <span style=\"color:#17aafa\" id=\"modele\">Création du modèle de prédiction</span>"
   ]
  },
  {
   "cell_type": "code",
   "execution_count": 2,
   "metadata": {},
   "outputs": [],
   "source": [
    "#importation du fichier d'entrainement\n",
    "dataset = pd.read_csv(\"datas/notes.csv\", sep=\",\", decimal=\".\", header=0)\n",
    "\n",
    "#transformation de la variable is_genuine\n",
    "#True = 0\n",
    "#False = 1\n",
    "dataset['is_genuine'] = dataset['is_genuine'].apply(lambda x: 0 if x == True else 1)\n",
    "dataset[\"is_genuine\"] = dataset[\"is_genuine\"].astype('category')\n",
    "\n",
    "# on définit x et y\n",
    "y = dataset[\"is_genuine\"].cat.codes\n",
    "X = dataset.select_dtypes(np.number)\n",
    "\n",
    "#subdivision des données en entrainement et test\n",
    "X_train,X_test,y_train,y_test = model_selection.train_test_split (X,y,test_size = 0.2 ,random_state=0)\n",
    "\n",
    "#regression logistique\n",
    "lr = LogisticRegression()\n",
    "\n",
    "#modélisation sur les données d'apprentissage\n",
    "modele_sk = lr.fit(X_train, y_train)"
   ]
  },
  {
   "cell_type": "markdown",
   "metadata": {},
   "source": [
    "### <span style=\"color:#17aafa\">Import et contrôle du fichier à tester</span>"
   ]
  },
  {
   "cell_type": "code",
   "execution_count": 3,
   "metadata": {},
   "outputs": [],
   "source": [
    "from tkinter import * \n",
    "from tkinter import filedialog \n",
    "from tkinter import messagebox\n",
    "\n",
    "#sélection du fichier\n",
    "root = Tk() \n",
    "root.filename = filedialog.askopenfilename(initialdir = \"C:/Users/OpenClassrooms/jupyter-notebooks/P6_Détectez_des_faux_billets/\",\n",
    "                                           title = \"Sélectionnez le fichier\",\n",
    "                                           filetypes = ((\"Fichiers CSV\",\"*.csv\"),(\"all files\",\"*.*\"))) \n",
    "root.withdraw()\n",
    "\n",
    "dataset_new = pd.read_csv(root.filename, sep=\",\", decimal=\".\", header=0)"
   ]
  },
  {
   "cell_type": "code",
   "execution_count": 4,
   "metadata": {},
   "outputs": [
    {
     "name": "stdout",
     "output_type": "stream",
     "text": [
      "Les variables du fichier sont correctes. Voici un aperçu des données :\n",
      "\n",
      "    diagonal  height_left  height_right  margin_low  margin_up  length   id\n",
      "0    172.09       103.95        103.73        4.39       3.09  113.19  B_1\n",
      "1    171.52       104.17        104.03        5.27       3.16  111.82  B_2\n",
      "2    171.78       103.80        103.75        3.81       3.24  113.39  B_3\n",
      "3    172.02       104.08        103.99        5.57       3.30  111.10  B_4\n",
      "4    171.79       104.34        104.37        5.00       3.07  111.87  B_5\n"
     ]
    }
   ],
   "source": [
    "#vérification des variables\n",
    "liste_X = [\"diagonal\",\"height_left\",\"height_right\",\"margin_low\",\"margin_up\",\"length\",\"id\"]\n",
    "if all([item in dataset_new.columns for item in liste_X]):\n",
    "    print(\"Les variables du fichier sont correctes. Voici un aperçu des données :\\n\\n\",dataset_new)\n",
    "else :\n",
    "    messagebox.showerror(title=\"Erreur d'importation du fichier\", message=\"Attention, les colonnes du fichier \"+root.filename+\" ne correspondent pas à la trame attendue !\")\n",
    "    sys.exit()"
   ]
  },
  {
   "cell_type": "code",
   "execution_count": 5,
   "metadata": {},
   "outputs": [
    {
     "name": "stdout",
     "output_type": "stream",
     "text": [
      "Aucune valeur nulle détectée, le traitement peut continuer.\n"
     ]
    }
   ],
   "source": [
    "if((dataset_new.isnull().sum(axis = 0)).sum() > 0):\n",
    "    messagebox.showerror(title=\"Valeurs nulles détectées\", message=\"Attention, des valeurs nulles ont été détectées dans le fichier ! Traitement impossible en l'état.\")\n",
    "    sys.exit()\n",
    "else :\n",
    "    print(\"Aucune valeur nulle détectée, le traitement peut continuer.\")"
   ]
  },
  {
   "cell_type": "markdown",
   "metadata": {},
   "source": [
    "### <span style=\"color:#17aafa\">Application de l'algorithme de prédiction</span>"
   ]
  },
  {
   "cell_type": "code",
   "execution_count": 6,
   "metadata": {},
   "outputs": [],
   "source": [
    "#creation des variables \n",
    "X_new = dataset_new[liste_X[:-1]]\n",
    "\n",
    "#calcul des probabilités d'affectation sur l'échantillon exemple\n",
    "probas_new = lr.predict_proba(X_new)\n",
    "\n",
    "#score de presence : Probalilité de chance que le billet soit VRAI (is_genuine = 0)\n",
    "score_new = probas_new[:,0]\n",
    "\n",
    "#Ajout de la colonne probabilité\n",
    "dataset_new[\"proba_true\"] = score_new\n",
    "#calcul de la variable is_genuine\n",
    "dataset_new[\"is_genuine\"] = np.where(dataset_new[\"proba_true\"]>=0.5, 'Oui', 'Non')\n",
    "#traitement du Dataframe pour meilleure compréhension :\n",
    "dataset_new_fin = dataset_new[[\"id\",\"proba_true\",\"is_genuine\"]].rename(columns={\"id\":\"Identifiant du billet testé\",\n",
    "                                                                                 \"proba_true\":\"Probabilité que le billet soit VRAI (%)\",\n",
    "                                                                                 \"is_genuine\":\"Est authentique ?\"})\n",
    "dataset_new_fin[\"Probabilité que le billet soit VRAI (%)\"] = round((dataset_new_fin[\"Probabilité que le billet soit VRAI (%)\"]*100),2)"
   ]
  },
  {
   "cell_type": "markdown",
   "metadata": {},
   "source": [
    "### <span style=\"color:#17aafa\">Résultats du traitement</span>\n",
    "\n",
    "Selon la consigne donnée, pour chaque billet, l'algorithme de classification devra donner la **probabilité que le billet soit vrai**. Si cette probabilité est supérieure ou égale à 0.5 *(50%)*, le billet sera considéré comme vrai. Dans le cas contraire, il sera considéré comme faux."
   ]
  },
  {
   "cell_type": "code",
   "execution_count": 7,
   "metadata": {},
   "outputs": [
    {
     "data": {
      "text/html": [
       "<div>\n",
       "<style scoped>\n",
       "    .dataframe tbody tr th:only-of-type {\n",
       "        vertical-align: middle;\n",
       "    }\n",
       "\n",
       "    .dataframe tbody tr th {\n",
       "        vertical-align: top;\n",
       "    }\n",
       "\n",
       "    .dataframe thead th {\n",
       "        text-align: right;\n",
       "    }\n",
       "</style>\n",
       "<table border=\"1\" class=\"dataframe\">\n",
       "  <thead>\n",
       "    <tr style=\"text-align: right;\">\n",
       "      <th></th>\n",
       "      <th>Identifiant du billet testé</th>\n",
       "      <th>Probabilité que le billet soit VRAI (%)</th>\n",
       "      <th>Est authentique ?</th>\n",
       "    </tr>\n",
       "  </thead>\n",
       "  <tbody>\n",
       "    <tr>\n",
       "      <th>0</th>\n",
       "      <td>B_1</td>\n",
       "      <td>95.37</td>\n",
       "      <td>Oui</td>\n",
       "    </tr>\n",
       "    <tr>\n",
       "      <th>1</th>\n",
       "      <td>B_2</td>\n",
       "      <td>7.22</td>\n",
       "      <td>Non</td>\n",
       "    </tr>\n",
       "    <tr>\n",
       "      <th>2</th>\n",
       "      <td>B_3</td>\n",
       "      <td>99.28</td>\n",
       "      <td>Oui</td>\n",
       "    </tr>\n",
       "    <tr>\n",
       "      <th>3</th>\n",
       "      <td>B_4</td>\n",
       "      <td>0.59</td>\n",
       "      <td>Non</td>\n",
       "    </tr>\n",
       "    <tr>\n",
       "      <th>4</th>\n",
       "      <td>B_5</td>\n",
       "      <td>10.35</td>\n",
       "      <td>Non</td>\n",
       "    </tr>\n",
       "  </tbody>\n",
       "</table>\n",
       "</div>"
      ],
      "text/plain": [
       "  Identifiant du billet testé  Probabilité que le billet soit VRAI (%)  \\\n",
       "0                         B_1                                    95.37   \n",
       "1                         B_2                                     7.22   \n",
       "2                         B_3                                    99.28   \n",
       "3                         B_4                                     0.59   \n",
       "4                         B_5                                    10.35   \n",
       "\n",
       "  Est authentique ?  \n",
       "0               Oui  \n",
       "1               Non  \n",
       "2               Oui  \n",
       "3               Non  \n",
       "4               Non  "
      ]
     },
     "execution_count": 7,
     "metadata": {},
     "output_type": "execute_result"
    }
   ],
   "source": [
    "dataset_new_fin"
   ]
  },
  {
   "cell_type": "code",
   "execution_count": 8,
   "metadata": {},
   "outputs": [],
   "source": [
    "liste_faux_billets = list(dataset_new_fin.loc[(dataset_new_fin[\"Est authentique ?\"] == \"Non\"),\"Identifiant du billet testé\"].values)"
   ]
  },
  {
   "cell_type": "code",
   "execution_count": 9,
   "metadata": {},
   "outputs": [
    {
     "name": "stdout",
     "output_type": "stream",
     "text": [
      "Les billets dont l'identifiant est dans la liste ['B_2', 'B_4', 'B_5'] \n",
      "ont été identifiés commes FAUX selon l'algorithme de prédiction.\n"
     ]
    }
   ],
   "source": [
    "print(\"Les billets dont l'identifiant est dans la liste\", liste_faux_billets, \"\\nont été identifiés commes FAUX selon l'algorithme de prédiction.\")"
   ]
  }
 ],
 "metadata": {
  "kernelspec": {
   "display_name": "Python 3",
   "language": "python",
   "name": "python3"
  },
  "language_info": {
   "codemirror_mode": {
    "name": "ipython",
    "version": 3
   },
   "file_extension": ".py",
   "mimetype": "text/x-python",
   "name": "python",
   "nbconvert_exporter": "python",
   "pygments_lexer": "ipython3",
   "version": "3.8.3"
  }
 },
 "nbformat": 4,
 "nbformat_minor": 4
}
